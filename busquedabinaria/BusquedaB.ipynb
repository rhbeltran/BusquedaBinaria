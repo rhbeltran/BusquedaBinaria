{
 "cells": [
  {
   "cell_type": "code",
   "execution_count": 5,
   "metadata": {},
   "outputs": [
    {
     "name": "stdout",
     "output_type": "stream",
     "text": [
      "[9, 11, 37, 51, 98]\n",
      "El elemento 23 no esta en la lista\n"
     ]
    }
   ],
   "source": [
    "import random\n",
    "def busqueda_binaria(lista, comienzo, final, objetivo, contador):\n",
    "  contador += 1\n",
    "  if comienzo > final:\n",
    "    return False\n",
    "  medio = (comienzo + final) //2\n",
    "  if lista[medio] == objetivo:\n",
    "    print(f'Se utilizaron {contador} pasos para encontrar {objetivo}')\n",
    "    return True\n",
    "  elif lista[medio] < objetivo:\n",
    "    return busqueda_binaria(lista, medio +1, final, objetivo, contador)\n",
    "  else:\n",
    "    return busqueda_binaria(lista, comienzo, medio -1, objetivo, contador)\n",
    "\n",
    "if __name__ == '__main__':\n",
    "  tamano_de_lista = int(input('De que tamano quieres la lista'))\n",
    "  objetivo = int (input('Que numero quieres encontrar'))\n",
    "\n",
    "  lista = sorted([random.randint(0,100) for i in range(tamano_de_lista)])\n",
    "\n",
    "  contador = 0\n",
    "  encontrado = busqueda_binaria(lista, 0, len(lista), objetivo, contador)\n",
    "  print(lista)\n",
    "  print(f'El elemento {objetivo} {\"esta\" if encontrado else \"no esta\"} en la lista')"
   ]
  }
 ],
 "metadata": {
  "kernelspec": {
   "display_name": "Python 3",
   "language": "python",
   "name": "python3"
  },
  "language_info": {
   "codemirror_mode": {
    "name": "ipython",
    "version": 3
   },
   "file_extension": ".py",
   "mimetype": "text/x-python",
   "name": "python",
   "nbconvert_exporter": "python",
   "pygments_lexer": "ipython3",
   "version": "3.10.5"
  },
  "orig_nbformat": 4,
  "vscode": {
   "interpreter": {
    "hash": "500ba1db433bd1168fb31d01487eb30ceaf82f2f26442a70698cbefc20381ed0"
   }
  }
 },
 "nbformat": 4,
 "nbformat_minor": 2
}
